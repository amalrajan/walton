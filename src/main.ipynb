{
 "cells": [
  {
   "cell_type": "markdown",
   "metadata": {},
   "source": [
    "### Make sure you define the API tokens and board ID before running the code"
   ]
  },
  {
   "cell_type": "markdown",
   "metadata": {},
   "source": [
    "## Part 1"
   ]
  },
  {
   "cell_type": "markdown",
   "metadata": {},
   "source": [
    "![reference-monday-board](https://ik.imagekit.io/5jrct2yttdr/github/walton/Screenshot%202024-08-12%20205143_Q2tWQ3_vU.png?updatedAt=1723510349530)"
   ]
  },
  {
   "cell_type": "code",
   "execution_count": 3,
   "metadata": {},
   "outputs": [],
   "source": [
    "import json\n",
    "import os\n",
    "from dataclasses import dataclass\n",
    "\n",
    "import requests"
   ]
  },
  {
   "cell_type": "code",
   "execution_count": 1,
   "metadata": {},
   "outputs": [],
   "source": [
    "# Define your API token and board ID\n",
    "api_token = \"\"\n",
    "\n",
    "# Define the board ID for the \"Items Board\"\n",
    "board_id = 7212306580\n",
    "\n",
    "# Setup the API endpoint\n",
    "url = \"https://api.monday.com/v2\""
   ]
  },
  {
   "cell_type": "code",
   "execution_count": 4,
   "metadata": {},
   "outputs": [
    {
     "name": "stdout",
     "output_type": "stream",
     "text": [
      "['7212306607', '7212306611', '7212306619']\n"
     ]
    }
   ],
   "source": [
    "# Query the item IDs\n",
    "query = \"\"\"\n",
    "query {\n",
    "  boards (ids: %s){\n",
    "    items_page {\n",
    "      items {\n",
    "        id\n",
    "        name\n",
    "      }\n",
    "    }\n",
    "  }\n",
    "}\n",
    "\"\"\" % (\n",
    "    board_id\n",
    ")\n",
    "\n",
    "# Setup the headers with your API key\n",
    "headers = {\"Authorization\": api_token, \"Content-Type\": \"application/json\"}\n",
    "\n",
    "# Make the HTTP POST request to the API\n",
    "response = requests.post(url, json={\"query\": query}, headers=headers)\n",
    "\n",
    "# Parse the JSON response\n",
    "response_data = json.loads(response.text)\n",
    "\n",
    "# Initialize an empty list to store the IDs\n",
    "item_ids = []\n",
    "\n",
    "# Traverse the JSON structure to extract item IDs\n",
    "for board in response_data['data']['boards']:\n",
    "    for item in board['items_page']['items']:\n",
    "        item_ids.append(item['id'])\n",
    "\n",
    "# Print the list of item IDs\n",
    "print(item_ids)"
   ]
  },
  {
   "cell_type": "code",
   "execution_count": 5,
   "metadata": {},
   "outputs": [
    {
     "name": "stdout",
     "output_type": "stream",
     "text": [
      "{\n",
      "  \"data\": {\n",
      "    \"items\": [\n",
      "      {\n",
      "        \"id\": \"7212306607\",\n",
      "        \"name\": \"item1\",\n",
      "        \"column_values\": [\n",
      "          {\n",
      "            \"id\": \"subitems__1\",\n",
      "            \"text\": null,\n",
      "            \"column\": {\n",
      "              \"title\": \"Subitems\"\n",
      "            }\n",
      "          },\n",
      "          {\n",
      "            \"id\": \"text6__1\",\n",
      "            \"text\": \"user1\",\n",
      "            \"column\": {\n",
      "              \"title\": \"name\"\n",
      "            }\n",
      "          },\n",
      "          {\n",
      "            \"id\": \"email__1\",\n",
      "            \"text\": \"amalrajan74@gmail.com\",\n",
      "            \"column\": {\n",
      "              \"title\": \"email\"\n",
      "            }\n",
      "          },\n",
      "          {\n",
      "            \"id\": \"text__1\",\n",
      "            \"text\": \"user1 content\",\n",
      "            \"column\": {\n",
      "              \"title\": \"email_content\"\n",
      "            }\n",
      "          }\n",
      "        ]\n",
      "      },\n",
      "      {\n",
      "        \"id\": \"7212306611\",\n",
      "        \"name\": \"item2\",\n",
      "        \"column_values\": [\n",
      "          {\n",
      "            \"id\": \"subitems__1\",\n",
      "            \"text\": null,\n",
      "            \"column\": {\n",
      "              \"title\": \"Subitems\"\n",
      "            }\n",
      "          },\n",
      "          {\n",
      "            \"id\": \"text6__1\",\n",
      "            \"text\": \"user2\",\n",
      "            \"column\": {\n",
      "              \"title\": \"name\"\n",
      "            }\n",
      "          },\n",
      "          {\n",
      "            \"id\": \"email__1\",\n",
      "            \"text\": \"amalrajan@outlook.com\",\n",
      "            \"column\": {\n",
      "              \"title\": \"email\"\n",
      "            }\n",
      "          },\n",
      "          {\n",
      "            \"id\": \"text__1\",\n",
      "            \"text\": \"user2 content\",\n",
      "            \"column\": {\n",
      "              \"title\": \"email_content\"\n",
      "            }\n",
      "          }\n",
      "        ]\n",
      "      },\n",
      "      {\n",
      "        \"id\": \"7212306619\",\n",
      "        \"name\": \"item3\",\n",
      "        \"column_values\": [\n",
      "          {\n",
      "            \"id\": \"subitems__1\",\n",
      "            \"text\": null,\n",
      "            \"column\": {\n",
      "              \"title\": \"Subitems\"\n",
      "            }\n",
      "          },\n",
      "          {\n",
      "            \"id\": \"text6__1\",\n",
      "            \"text\": \"user3\",\n",
      "            \"column\": {\n",
      "              \"title\": \"name\"\n",
      "            }\n",
      "          },\n",
      "          {\n",
      "            \"id\": \"email__1\",\n",
      "            \"text\": \"amalrajan@cmail.carleton.ca\",\n",
      "            \"column\": {\n",
      "              \"title\": \"email\"\n",
      "            }\n",
      "          },\n",
      "          {\n",
      "            \"id\": \"text__1\",\n",
      "            \"text\": \"user3 content\",\n",
      "            \"column\": {\n",
      "              \"title\": \"email_content\"\n",
      "            }\n",
      "          }\n",
      "        ]\n",
      "      }\n",
      "    ]\n",
      "  },\n",
      "  \"account_id\": 24890942\n",
      "}\n"
     ]
    }
   ],
   "source": [
    "# Convert the list of IDs to a string format suitable for the query\n",
    "ids_string = ', '.join(item_ids)\n",
    "\n",
    "# Construct the GraphQL query with the extracted IDs\n",
    "query = f\"\"\"\n",
    "query {{\n",
    "  items (ids: [{ids_string}]) {{\n",
    "    id,\n",
    "    name,\n",
    "    column_values {{\n",
    "      id,\n",
    "      text,\n",
    "      column {{\n",
    "        title\n",
    "      }}\n",
    "    }}\n",
    "  }}\n",
    "}}\n",
    "\"\"\"\n",
    "\n",
    "# Make the HTTP POST request to the API\n",
    "response = requests.post(url, json={\"query\": query}, headers=headers)\n",
    "\n",
    "# Print the response\n",
    "response = json.loads(response.text)\n",
    "print(json.dumps(response, indent=2))"
   ]
  },
  {
   "cell_type": "code",
   "execution_count": 6,
   "metadata": {},
   "outputs": [
    {
     "name": "stdout",
     "output_type": "stream",
     "text": [
      "ItemInfo(item_id='7212306607', name='item1', email='amalrajan74@gmail.com', email_content='user1 content')\n",
      "ItemInfo(item_id='7212306611', name='item2', email='amalrajan@outlook.com', email_content='user2 content')\n",
      "ItemInfo(item_id='7212306619', name='item3', email='amalrajan@cmail.carleton.ca', email_content='user3 content')\n"
     ]
    }
   ],
   "source": [
    "# Define the dataclass to store the extracted information\n",
    "@dataclass\n",
    "class ItemInfo:\n",
    "    item_id: str\n",
    "    name: str\n",
    "    email: str\n",
    "    email_content: str\n",
    "\n",
    "\n",
    "# Initialize an empty list to store the 2D array\n",
    "result = []\n",
    "\n",
    "# Iterate over each item\n",
    "for item in response['data']['items']:\n",
    "    item_id = item['id']\n",
    "    name = item['name']\n",
    "    email = None\n",
    "    email_content = None\n",
    "    \n",
    "    # Extract email and email_content from column_values\n",
    "    for column_value in item['column_values']:\n",
    "        if column_value['column']['title'] == 'email':\n",
    "            email = column_value['text']\n",
    "        elif column_value['column']['title'] == 'email_content':\n",
    "            email_content = column_value['text']\n",
    "    \n",
    "    # Create an instance of the dataclass and append it to the result list\n",
    "    result.append(ItemInfo(item_id=item_id, name=name, email=email, email_content=email_content))\n",
    "\n",
    "# Print the list of dataclass instances\n",
    "for item_info in result:\n",
    "    print(item_info)"
   ]
  },
  {
   "cell_type": "markdown",
   "metadata": {},
   "source": [
    "## Part 2"
   ]
  },
  {
   "cell_type": "code",
   "execution_count": 8,
   "metadata": {},
   "outputs": [],
   "source": [
    "from sendgrid import SendGridAPIClient\n",
    "from sendgrid.helpers.mail import Mail"
   ]
  },
  {
   "cell_type": "code",
   "execution_count": 7,
   "metadata": {},
   "outputs": [],
   "source": [
    "# Define the SendGrid API key\n",
    "sendgrid_api_key = \"\""
   ]
  },
  {
   "cell_type": "code",
   "execution_count": 9,
   "metadata": {},
   "outputs": [],
   "source": [
    "def send_email(from_email, to_email, subject, content):\n",
    "    message = Mail(\n",
    "        from_email=from_email,\n",
    "        to_emails=to_email,\n",
    "        subject=subject,\n",
    "        html_content=content)\n",
    "    try:\n",
    "        sg = SendGridAPIClient(sendgrid_api_key)\n",
    "        response = sg.send(message)\n",
    "        print(response.status_code)\n",
    "        print(response.body)\n",
    "        print(response.headers)\n",
    "    except Exception as e:\n",
    "        print(e.message)"
   ]
  },
  {
   "cell_type": "code",
   "execution_count": 10,
   "metadata": {},
   "outputs": [
    {
     "name": "stdout",
     "output_type": "stream",
     "text": [
      "202\n",
      "b''\n",
      "Server: nginx\n",
      "Date: Tue, 13 Aug 2024 00:40:25 GMT\n",
      "Content-Length: 0\n",
      "Connection: close\n",
      "X-Message-Id: VzzHtmmWQwa1mAoCzmBjNg\n",
      "Access-Control-Allow-Origin: https://sendgrid.api-docs.io\n",
      "Access-Control-Allow-Methods: POST\n",
      "Access-Control-Allow-Headers: Authorization, Content-Type, On-behalf-of, x-sg-elas-acl\n",
      "Access-Control-Max-Age: 600\n",
      "X-No-CORS-Reason: https://sendgrid.com/docs/Classroom/Basics/API/cors.html\n",
      "Strict-Transport-Security: max-age=600; includeSubDomains\n",
      "\n",
      "\n",
      "202\n",
      "b''\n",
      "Server: nginx\n",
      "Date: Tue, 13 Aug 2024 00:40:26 GMT\n",
      "Content-Length: 0\n",
      "Connection: close\n",
      "X-Message-Id: 3J4p2LdnSFCT8cKU4SI99g\n",
      "Access-Control-Allow-Origin: https://sendgrid.api-docs.io\n",
      "Access-Control-Allow-Methods: POST\n",
      "Access-Control-Allow-Headers: Authorization, Content-Type, On-behalf-of, x-sg-elas-acl\n",
      "Access-Control-Max-Age: 600\n",
      "X-No-CORS-Reason: https://sendgrid.com/docs/Classroom/Basics/API/cors.html\n",
      "Strict-Transport-Security: max-age=600; includeSubDomains\n",
      "\n",
      "\n",
      "202\n",
      "b''\n",
      "Server: nginx\n",
      "Date: Tue, 13 Aug 2024 00:40:26 GMT\n",
      "Content-Length: 0\n",
      "Connection: close\n",
      "X-Message-Id: ARD3e4yXSFehh4NQW1-fbw\n",
      "Access-Control-Allow-Origin: https://sendgrid.api-docs.io\n",
      "Access-Control-Allow-Methods: POST\n",
      "Access-Control-Allow-Headers: Authorization, Content-Type, On-behalf-of, x-sg-elas-acl\n",
      "Access-Control-Max-Age: 600\n",
      "X-No-CORS-Reason: https://sendgrid.com/docs/Classroom/Basics/API/cors.html\n",
      "Strict-Transport-Security: max-age=600; includeSubDomains\n",
      "\n",
      "\n"
     ]
    }
   ],
   "source": [
    "for item_info in result:\n",
    "    send_email(\n",
    "        \"amalrajan74@gmail.com\",\n",
    "        item_info.email,\n",
    "        item_info.name,\n",
    "        item_info.email_content\n",
    "    )\n"
   ]
  }
 ],
 "metadata": {
  "kernelspec": {
   "display_name": ".venv",
   "language": "python",
   "name": "python3"
  },
  "language_info": {
   "codemirror_mode": {
    "name": "ipython",
    "version": 3
   },
   "file_extension": ".py",
   "mimetype": "text/x-python",
   "name": "python",
   "nbconvert_exporter": "python",
   "pygments_lexer": "ipython3",
   "version": "3.12.3"
  }
 },
 "nbformat": 4,
 "nbformat_minor": 2
}
